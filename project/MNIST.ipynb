{
 "cells": [
  {
   "cell_type": "markdown",
   "id": "c30abe23-374e-429a-af7c-be35f5427477",
   "metadata": {
    "tags": []
   },
   "source": [
    "## Импорты и настройка окружения"
   ]
  },
  {
   "cell_type": "code",
   "execution_count": 1,
   "id": "fd2f1551-63f7-43bb-b9a8-a6842aeee2b4",
   "metadata": {},
   "outputs": [],
   "source": [
    "import os\n",
    "import time\n",
    "import re\n",
    "from enum import Enum\n",
    "\n",
    "import numpy as np\n",
    "import pandas as pd\n",
    "import matplotlib.pyplot as plt\n",
    "\n",
    "import mlflow\n",
    "from mlflow.models.signature import infer_signature\n",
    "\n",
    "from sklearn.metrics import accuracy_score, confusion_matrix\n",
    "\n",
    "import torch\n",
    "from torch import nn\n",
    "import torch.optim as optim\n",
    "from torch.optim import lr_scheduler\n",
    "from torch.utils.data import DataLoader, random_split\n",
    "\n",
    "import torchvision\n",
    "from torchvision import datasets, models, transforms\n",
    "\n",
    "from tqdm import tqdm, trange\n",
    "from pyngrok import ngrok"
   ]
  },
  {
   "cell_type": "code",
   "execution_count": 2,
   "id": "66079542-14ea-4117-a94a-2259f6993506",
   "metadata": {},
   "outputs": [
    {
     "name": "stdout",
     "output_type": "stream",
     "text": [
      "env: MLFLOW_TRACKING_URI=sqlite:///mlruns.db\n"
     ]
    }
   ],
   "source": [
    "%env MLFLOW_TRACKING_URI=sqlite:///mlruns.db"
   ]
  },
  {
   "cell_type": "markdown",
   "id": "0f51e4d6-3253-40ff-b955-4f8e03b89bbf",
   "metadata": {},
   "source": [
    "## Трансформация"
   ]
  },
  {
   "cell_type": "code",
   "execution_count": 3,
   "id": "17974613-c19e-4193-9767-bde683d80577",
   "metadata": {},
   "outputs": [],
   "source": [
    "distortion_scale = 0.3"
   ]
  },
  {
   "cell_type": "code",
   "execution_count": 4,
   "id": "f9903a00-dde8-48d3-b0c1-e06e1c70b2a8",
   "metadata": {},
   "outputs": [],
   "source": [
    "transform = transforms.Compose([\n",
    "    #transforms. ElasticTransform(alpha=60.0 ),\n",
    "    transforms.RandomRotation(degrees=30.0),\n",
    "    #transforms.GaussianBlur(kernel_size=(5, 9), sigma=(0.5, 1)),\n",
    "    transforms.RandomPerspective(p=0.9, distortion_scale=distortion_scale),\n",
    "    #transforms.RandomResizedCrop(size=(28, 28),scale=(0.7, 0.8), ratio=(0.7, 0.8)),\n",
    "    transforms.ToTensor()\n",
    "])"
   ]
  },
  {
   "cell_type": "code",
   "execution_count": 5,
   "id": "ade823ad-11e7-4ad1-bc3f-a1be9dee8b1f",
   "metadata": {},
   "outputs": [],
   "source": [
    "def get_transform():\n",
    "    try:\n",
    "        transform\n",
    "    except NameError:\n",
    "        return transforms.Compose([transforms.ToTensor()])\n",
    "    else:\n",
    "        return transform"
   ]
  },
  {
   "cell_type": "code",
   "execution_count": 6,
   "id": "adbadcc5-d995-403a-a434-b5152bed1c9a",
   "metadata": {},
   "outputs": [],
   "source": [
    "def imshow(inp, title=None, plt_ax=plt, default=False):\n",
    "    \n",
    "    inp = inp.numpy().transpose((1, 2, 0))\n",
    "    mean = np.array([0.485, 0.456, 0.406])\n",
    "    std = np.array([0.229, 0.224, 0.225])\n",
    "    inp = std * inp + mean\n",
    "    inp = np.clip(inp, 0, 1)\n",
    "    \n",
    "    plt_ax.imshow(inp)\n",
    "    \n",
    "    if title is not None:\n",
    "        plt_ax.set_title(title)\n",
    "    plt_ax.grid(False)"
   ]
  },
  {
   "cell_type": "markdown",
   "id": "b603129f-63fd-4726-a0a4-a89ef73e8cc8",
   "metadata": {
    "tags": []
   },
   "source": [
    "## Погрузка и настройка данных"
   ]
  },
  {
   "cell_type": "code",
   "execution_count": 7,
   "id": "f1d652b2-71da-463e-8ab6-9a4c33f0f658",
   "metadata": {},
   "outputs": [],
   "source": [
    "generator1 = torch.Generator().manual_seed(42)\n",
    "\n",
    "dataset_train = datasets.MNIST(root='./data', train=True, transform=transform, download=True)\n",
    "dataset_train_augm = datasets.MNIST(root='./data', train=True, download=True,transform=transform)\n",
    "dataset = torch.utils.data.ConcatDataset(\n",
    "    [dataset_train, dataset_train_augm]\n",
    ")\n",
    "test_dataset = datasets.MNIST(root='./data', train=False, transform=transforms.ToTensor())\n",
    "\n",
    "train_dataset, val_dataset = random_split(dataset, [0.8, 0.2], generator=generator1)\n",
    "\n",
    "DEVICE = torch.device(\"cpu\")"
   ]
  },
  {
   "cell_type": "code",
   "execution_count": 8,
   "id": "0a9a32bb-644a-41aa-baf0-1bff0c7ec9e7",
   "metadata": {},
   "outputs": [
    {
     "data": {
      "image/png": "[encoded data removed]",
      "text/plain": [
       "<Figure size 800x800 with 9 Axes>"
      ]
     },
     "metadata": {},
     "output_type": "display_data"
    }
   ],
   "source": [
    "fig, ax = plt.subplots(nrows=3, ncols=3,figsize=(8, 8), \\\n",
    "                        sharey=True, sharex=True)\n",
    "for fig_x in ax.flatten():\n",
    "    random_characters = int(np.random.uniform(0,1000))\n",
    "    im_val, label = dataset_train_augm[random_characters]\n",
    "    \n",
    "    imshow(im_val.data.cpu(), plt_ax=fig_x)"
   ]
  },
  {
   "cell_type": "markdown",
   "id": "17cddc84-f4e9-476c-98b1-cb9d868c91ed",
   "metadata": {
    "tags": []
   },
   "source": [
    "## Методы обучения, предсказания и оценки"
   ]
  },
  {
   "cell_type": "code",
   "execution_count": 8,
   "id": "f9a9846f-a2bb-4453-8a24-5becc302069e",
   "metadata": {},
   "outputs": [],
   "source": [
    "class Timer:\n",
    "    def __enter__(self):\n",
    "        self._start = time.time()\n",
    "        return self\n",
    "\n",
    "    def __exit__(self, type, value, traceback):\n",
    "        self._end = time.time()\n",
    "\n",
    "    def __str__(self):\n",
    "        num = self.float_round()\n",
    "        return f'{num} seconds'\n",
    "    \n",
    "    def float_round(self, cnt_numbers: int = 4) -> float:\n",
    "        return round(self._end - self._start, cnt_numbers)"
   ]
  },
  {
   "cell_type": "code",
   "execution_count": 9,
   "id": "93cd60b7-680a-4853-b137-35cdc5eb2647",
   "metadata": {},
   "outputs": [],
   "source": [
    "def fit_epoch(model, train_loader, criterion, optimizer):\n",
    "    running_loss = 0.0\n",
    "    running_corrects = 0\n",
    "    processed_data_count = 0\n",
    "\n",
    "    for inputs, labels in train_loader:\n",
    "        inputs = inputs.to(DEVICE)\n",
    "        labels = labels.to(DEVICE)\n",
    "\n",
    "        optimizer.zero_grad()\n",
    "\n",
    "        outputs = model(inputs)\n",
    "        preds = torch.argmax(outputs, 1)\n",
    "\n",
    "        loss = criterion(outputs, labels)\n",
    "        loss.backward()\n",
    "        optimizer.step()\n",
    "\n",
    "        running_loss += loss.item() * inputs.size(0)\n",
    "        running_corrects += torch.sum(preds == labels.data)\n",
    "        processed_data_count += inputs.size(0)\n",
    "\n",
    "    train_loss = running_loss / processed_data_count\n",
    "    train_acc = running_corrects.cpu().numpy() / processed_data_count\n",
    "\n",
    "    return train_loss, train_acc"
   ]
  },
  {
   "cell_type": "code",
   "execution_count": 10,
   "id": "1ca4036a-e9d6-495a-91bb-a252a6a1d057",
   "metadata": {},
   "outputs": [],
   "source": [
    "def eval_epoch(model, val_loader, criterion):\n",
    "    model.eval()\n",
    "\n",
    "    running_loss = 0.0\n",
    "    running_corrects = 0\n",
    "    processed_size = 0\n",
    "\n",
    "    for inputs, labels in val_loader:\n",
    "        inputs = inputs.to(DEVICE)\n",
    "        labels = labels.to(DEVICE)\n",
    "\n",
    "        with torch.set_grad_enabled(False):\n",
    "            outputs = model(inputs)\n",
    "            preds = torch.argmax(outputs, 1)\n",
    "\n",
    "            loss = criterion(outputs, labels)\n",
    "\n",
    "        running_loss += loss.item() * inputs.size(0)\n",
    "        running_corrects += torch.sum(preds == labels.data)\n",
    "        processed_size += inputs.size(0)\n",
    "\n",
    "    val_loss = running_loss / processed_size\n",
    "    val_acc = running_corrects.double() / processed_size\n",
    "\n",
    "    return val_loss, val_acc"
   ]
  },
  {
   "cell_type": "code",
   "execution_count": 11,
   "id": "78413ae3-c88a-4edb-8347-ac0ef3d6e13f",
   "metadata": {},
   "outputs": [],
   "source": [
    "def train(train_files, val_files, model, epochs: int, batch_size: int, num_samples: int):\n",
    "    train_sampler=torch.utils.data.RandomSampler(train_dataset, num_samples=num_samples)\n",
    "    \n",
    "    train_loader = DataLoader(train_dataset, batch_size=batch_size, sampler=train_sampler) # shuffle=True,\n",
    "    val_loader = DataLoader(val_dataset, batch_size=batch_size, shuffle=False)\n",
    "\n",
    "    history = []\n",
    "    log_template = \"\\nEpoch {ep:03d} train_loss: {t_loss:0.4f} \\\n",
    "    val_loss {v_loss:0.4f} train_acc {t_acc:0.4f} val_acc {v_acc:0.4f}\"\n",
    "\n",
    "    with tqdm(desc=\"epoch\", total=epochs) as pbar_outer:\n",
    "        opt = torch.optim.Adam(model.parameters())\n",
    "        criterion = nn.CrossEntropyLoss()\n",
    "\n",
    "        for epoch in range(epochs):\n",
    "            train_loss, train_acc = fit_epoch(model, train_loader, criterion, opt)\n",
    "            print(\"loss\", train_loss)\n",
    "\n",
    "            val_loss, val_acc = eval_epoch(model, val_loader, criterion)\n",
    "            history.append((train_loss, train_acc, val_loss, val_acc))\n",
    "\n",
    "            pbar_outer.update(1)\n",
    "            tqdm.write(log_template.format(ep=epoch+1, t_loss=train_loss,\\\n",
    "                                           v_loss=val_loss, t_acc=train_acc, v_acc=val_acc))\n",
    "\n",
    "    return history"
   ]
  },
  {
   "cell_type": "code",
   "execution_count": 12,
   "id": "07c1a3ae-194e-4445-86bd-20652e9d8245",
   "metadata": {},
   "outputs": [],
   "source": [
    "def predict(model, test_loader):\n",
    "    with torch.no_grad():\n",
    "        logits = []\n",
    "\n",
    "        for inputs in test_loader:\n",
    "            if isinstance(inputs, tuple) or isinstance(inputs, list) and len(inputs) == 2:\n",
    "                # if the loader is really loader, then it returns tuple(X, y)\n",
    "                inputs = inputs[0]\n",
    "\n",
    "            inputs = inputs.to(DEVICE)\n",
    "            model.eval()\n",
    "            \n",
    "            outputs = model(inputs).cpu()\n",
    "            logits.append(outputs)\n",
    "\n",
    "    probs = nn.functional.softmax(torch.cat(logits), dim=-1).numpy()\n",
    "    return probs"
   ]
  },
  {
   "cell_type": "markdown",
   "id": "f107b74f-7c48-4fef-a739-b35f99901887",
   "metadata": {
    "tags": []
   },
   "source": [
    "## Архитектуры"
   ]
  },
  {
   "cell_type": "markdown",
   "id": "391d8d2a-d680-4a0c-b161-1e139a01f5bd",
   "metadata": {
    "tags": []
   },
   "source": [
    "### Архитектура EnsNet"
   ]
  },
  {
   "cell_type": "code",
   "execution_count": 14,
   "id": "923137b6-b00e-44e7-8290-0bf0907c033d",
   "metadata": {},
   "outputs": [],
   "source": [
    "class EnsNet(nn.Module):\n",
    "  def __init__(self, num_classes=10):\n",
    "      super(EnsNet, self).__init__()\n",
    "      self.features = nn.Sequential(\n",
    "        nn.Conv2d(1, 64, kernel_size=3, padding=1),\n",
    "        nn.BatchNorm2d(64),\n",
    "        nn.ReLU(inplace=True),\n",
    "        nn.Dropout(0.35),\n",
    "        nn.Conv2d(64, 128, kernel_size=3),\n",
    "        nn.BatchNorm2d(128),\n",
    "        nn.ReLU(inplace=True),\n",
    "        nn.Dropout(0.35),\n",
    "        nn.Conv2d(128, 256, 3, padding=1),\n",
    "        nn.BatchNorm2d(256),\n",
    "        nn.ReLU(inplace=True),\n",
    "        nn.MaxPool2d(kernel_size=2, stride=2),\n",
    "        nn.Dropout(0.35),\n",
    "        nn.Conv2d(256, 512, kernel_size=3, padding=1),\n",
    "        nn.BatchNorm2d(512),\n",
    "        nn.ReLU(inplace=True),\n",
    "        nn.Dropout(0.35),\n",
    "        nn.Conv2d(512, 1024, kernel_size=3),\n",
    "        nn.BatchNorm2d(1024),\n",
    "        nn.ReLU(inplace=True),\n",
    "        nn.Dropout(0.35),\n",
    "        \n",
    "      )\n",
    "      self.avgpool = nn.AdaptiveAvgPool2d((3, 3))\n",
    "      self.classifier_major = nn.Linear(216, num_classes)\n",
    "      self.classifiers = nn.ModuleList([\n",
    "          nn.Linear(216, num_classes)\n",
    "          for _ in range(10)\n",
    "      ])\n",
    "      self.weights = nn.Parameter(torch.ones(11) / 11, requires_grad=True)\n",
    "\n",
    "  def forward(self, x):\n",
    "    x = self.features(x)\n",
    "    x = self.avgpool(x)\n",
    "    x = torch.flatten(x, 1)\n",
    "    x_major = self.classifier_major(x[:, :216])\n",
    "    x_rest = [classifier(x[:, 216 * i :216 * (i + 1) ]) for i, classifier in enumerate(self.classifiers)]\n",
    "    all_x = torch.stack([x_major] + x_rest, dim=1)\n",
    "    weighted_x = torch.sum(all_x * self.weights.view(1, -1, 1), dim=1)\n",
    "    return weighted_x"
   ]
  },
  {
   "cell_type": "markdown",
   "id": "187257fe-d0cc-49ba-a213-efdf0141979f",
   "metadata": {
    "jp-MarkdownHeadingCollapsed": true,
    "tags": []
   },
   "source": [
    "### AlexNet"
   ]
  },
  {
   "cell_type": "code",
   "execution_count": 40,
   "id": "9d44efba-c874-4eb1-af55-82dd52b94c11",
   "metadata": {},
   "outputs": [],
   "source": [
    "class AlexNet(nn.Module):   \n",
    "    def __init__(self, num=10):\n",
    "        super(AlexNet, self).__init__()\n",
    "        self.feature = nn.Sequential(\n",
    "            nn.Conv2d(1, 32, kernel_size=5, stride=1, padding=1),\n",
    "            nn.ReLU(inplace=True), \n",
    "            nn.Conv2d(32, 64, kernel_size=3, padding=1),\n",
    "            nn.ReLU(inplace=True),   \n",
    "            nn.MaxPool2d( kernel_size=2, stride=2),\n",
    "            nn.Conv2d(64, 96, kernel_size=3, padding=1),\n",
    "            nn.ReLU(inplace=True),                         \n",
    "            nn.Conv2d(96, 64, kernel_size=3, padding=1),\n",
    "            nn.ReLU(inplace=True),                         \n",
    "            nn.Conv2d(64, 32, kernel_size=3, padding=1),\n",
    "            nn.ReLU(inplace=True),\n",
    "            nn.MaxPool2d( kernel_size=2, stride=1),\n",
    "        )\n",
    "        self.classifier = nn.Sequential(\n",
    "            nn.Dropout(),\n",
    "            nn.Linear(32*12*12,2048),\n",
    "            nn.ReLU(inplace=True),\n",
    "            nn.Dropout(),\n",
    "            nn.Linear(2048,1024),\n",
    "            nn.ReLU(inplace=True),\n",
    "            nn.Linear(1024,num),\n",
    "         \n",
    "        )\n",
    "    \n",
    "    def forward(self, x):\n",
    "\n",
    "        x = self.feature(x)\n",
    "        x = x.view(-1,32*12*12)\n",
    "        x = self.classifier(x)\n",
    "        return x"
   ]
  },
  {
   "cell_type": "markdown",
   "id": "4cd33c83-96a5-4b54-9e7e-b6ffe99307f0",
   "metadata": {
    "jp-MarkdownHeadingCollapsed": true,
    "tags": []
   },
   "source": [
    "### VGG8"
   ]
  },
  {
   "cell_type": "code",
   "execution_count": 39,
   "id": "402d58c7-00d3-40a5-abb1-a206977c2b57",
   "metadata": {},
   "outputs": [],
   "source": [
    "class VGG8(nn.Module):\n",
    "    def __init__(self):\n",
    "        super(VGG8, self).__init__()\n",
    "        # 1 input image channel, 6 output channels, 3x3 square conv kernel\n",
    "        self.conv1 = nn.Sequential(nn.Conv2d(in_channels=1, out_channels=6,  kernel_size=(3,3)),  nn.ReLU(), nn.MaxPool2d(stride=1, kernel_size=(2*2)))\n",
    "\n",
    "        self.conv2 = nn.Sequential(nn.Conv2d(6, 16, kernel_size=(3,3)), nn.ReLU(), nn.MaxPool2d(stride=1, kernel_size=(2*2)))\n",
    "\n",
    "        self.conv3 = nn.Sequential(nn.Conv2d(16, 32, kernel_size=(3,3)), nn.ReLU(), nn.MaxPool2d(stride=1, kernel_size=(2*2)))\n",
    "\n",
    "        self.conv4 = nn.Sequential(nn.Conv2d(32, 64, kernel_size=(3,3)), nn.ReLU(), nn.MaxPool2d(stride=1, kernel_size=(2*2)))\n",
    "        self.conv5 = nn.Sequential(nn.Conv2d(64, 64, kernel_size=(3,3)), nn.ReLU(), nn.MaxPool2d(stride=1, kernel_size=(2*2)))\n",
    "        self.fc1 = nn.Sequential(nn.Flatten(),nn.Linear(5184, 64), nn.ReLU())\n",
    "        self.fc2 = nn.Sequential(nn.Linear(64, 128), nn.ReLU())\n",
    "        self.fc3 = nn.Linear(128,10)\n",
    "    def forward(self, x):\n",
    "        x = self.conv1(x)\n",
    "        x = self.conv2(x)\n",
    "        x = self.fc1(x)\n",
    "        x = self.fc2(x)\n",
    "        x = self.fc3(x)\n",
    "\n",
    "        return x"
   ]
  },
  {
   "cell_type": "markdown",
   "id": "015af038-0844-4025-8297-5b7e046aba51",
   "metadata": {
    "jp-MarkdownHeadingCollapsed": true,
    "tags": []
   },
   "source": [
    "### ResNet"
   ]
  },
  {
   "cell_type": "code",
   "execution_count": 40,
   "id": "c171d867-3ad5-450b-937c-4a0bffff1c38",
   "metadata": {},
   "outputs": [],
   "source": [
    "class BasicBlock(nn.Module):\n",
    "  def __init__(self, in_channels, out_channels, stride=1):\n",
    "    super(BasicBlock, self).__init__()\n",
    "    self.conv1 = nn.Conv2d(in_channels, out_channels, kernel_size=3, stride=stride, padding=1, bias=False)\n",
    "    self.bn1 = nn.BatchNorm2d(out_channels)\n",
    "    self.conv2 = nn.Conv2d(out_channels, out_channels, kernel_size=3, stride=1, padding=1, bias=False)\n",
    "    self.bn2 = nn.BatchNorm2d(out_channels)\n",
    "\n",
    "    self.shortcut = nn.Sequential()\n",
    "    if stride != 1 or in_channels != out_channels:\n",
    "      self.shortcut = nn.Sequential(\n",
    "        nn.Conv2d(in_channels, out_channels, kernel_size=1, stride=stride, bias=False),\n",
    "        nn.BatchNorm2d(out_channels)\n",
    "      )\n",
    "  def forward(self, x):\n",
    "    out = nn.ReLU(inplace=True)(self.bn1(self.conv1(x)))\n",
    "    out = self.bn2(self.conv2(out))\n",
    "    out += self.shortcut(x)\n",
    "    out = nn.ReLU(inplace=True)(out)\n",
    "    return out\n",
    "\n",
    "class ResNet(nn.Module):\n",
    "  def __init__(self, num_classes=10):\n",
    "    super(ResNet, self).__init__()\n",
    "    self.in_channels = 16\n",
    "\n",
    "    self.model = nn.Sequential(\n",
    "      nn.Conv2d(1, 16, kernel_size=3, stride=1, padding=1, bias=False),\n",
    "      nn.BatchNorm2d(16),\n",
    "      nn.ReLU(inplace=True),\n",
    "      nn.MaxPool2d(kernel_size=3, stride=2, padding=1),\n",
    "      self._make_layer(16, 2, stride=1),\n",
    "      self._make_layer(32, 2, stride=2),\n",
    "      self._make_layer(64, 2, stride=2),\n",
    "      self._make_layer(128, 2, stride=2),\n",
    "      nn.AdaptiveAvgPool2d((1, 1)),\n",
    "      nn.Flatten(start_dim=1),\n",
    "      nn.Linear(128, num_classes)\n",
    "  )\n",
    "    self._initialize_weights()\n",
    "\n",
    "  def _make_layer(self, out_channels, num_blocks, stride):\n",
    "    strides = [stride] + [1] * (num_blocks - 1)\n",
    "    layers = []\n",
    "    for stride in strides:\n",
    "      layers.append(BasicBlock(self.in_channels, out_channels, stride))\n",
    "      self.in_channels = out_channels\n",
    "    return nn.Sequential(*layers)\n",
    "\n",
    "  def forward(self, x):\n",
    "    return self.model(x)\n",
    "\n",
    "  def _initialize_weights(self):\n",
    "    for m in self.modules():\n",
    "      if isinstance(m, nn.Conv2d):\n",
    "        nn.init.kaiming_normal_(m.weight, mode='fan_out', nonlinearity='relu')\n",
    "        if m.bias is not None:\n",
    "          nn.init.constant_(m.bias, 0)\n",
    "      elif isinstance(m, nn.BatchNorm2d):\n",
    "        nn.init.constant_(m.weight, 1)\n",
    "        nn.init.constant_(m.bias, 0)\n",
    "      elif isinstance(m, nn.Linear):\n",
    "        nn.init.kaiming_normal_(m.weight, mode='fan_out', nonlinearity='relu')\n",
    "        nn.init.constant_(m.bias, 0)"
   ]
  },
  {
   "cell_type": "markdown",
   "id": "220b0887-667e-44af-9561-906d7d26c0a1",
   "metadata": {},
   "source": [
    "### LeNet"
   ]
  },
  {
   "cell_type": "code",
   "execution_count": 13,
   "id": "e6228326-c3db-48c9-9324-fe370b53a612",
   "metadata": {},
   "outputs": [],
   "source": [
    "class LeNet(nn.Module):\n",
    "    def __init__(self):\n",
    "        super(LeNet, self).__init__()\n",
    "        self.conv1 = nn.Sequential(nn.Conv2d(in_channels=1, out_channels=6, kernel_size=5), nn.ReLU(), nn.MaxPool2d(stride=1, kernel_size=(2*2)))\n",
    "        self.conv2 = nn.Sequential(nn.Conv2d(6, 16, kernel_size=5), nn.ReLU(),nn.MaxPool2d(stride=1, kernel_size=(2*2)))\n",
    "        self.fc1 = nn.Sequential(nn.Flatten(),nn.Linear(3136, 120), nn.ReLU())\n",
    "        self.fc2 = nn.Sequential(nn.Linear(120, 84), nn.ReLU())\n",
    "        self.fc3 = nn.Linear(84,10)\n",
    "    def forward(self, x):\n",
    "        x = self.conv1(x)\n",
    "        x = self.conv2(x)\n",
    "        x = self.fc1(x)\n",
    "        x = self.fc2(x)\n",
    "        x = self.fc3(x)\n",
    "\n",
    "        return x"
   ]
  },
  {
   "cell_type": "markdown",
   "id": "d604e439-4556-4801-9ca8-c05a3b8d3a24",
   "metadata": {
    "tags": []
   },
   "source": [
    "### Подгрузка модели"
   ]
  },
  {
   "cell_type": "code",
   "execution_count": 14,
   "id": "3cff3a65-cbb1-49a0-a2bc-7fc35af9edb3",
   "metadata": {},
   "outputs": [],
   "source": [
    "class NNNetEnum(Enum):\n",
    "    ens_net = 1\n",
    "    alex_net = 2\n",
    "    vgg8 = 3\n",
    "    res_net = 4\n",
    "    le_net = 5"
   ]
  },
  {
   "cell_type": "code",
   "execution_count": 15,
   "id": "06c20311-0f3b-4697-9c43-d20de7ca1a9e",
   "metadata": {},
   "outputs": [],
   "source": [
    "def get_nn_model(nn_model: NNNetEnum):\n",
    "    model_class = None\n",
    "    if nn_model == NNNetEnum.ens_net:\n",
    "        model_class =  EnsNet\n",
    "    if nn_model == NNNetEnum.alex_net:\n",
    "        model_class =  AlexNet\n",
    "    if nn_model == NNNetEnum.vgg8:\n",
    "        model_class =  VGG8\n",
    "    if nn_model == NNNetEnum.res_net:\n",
    "        model_class =  ResNet\n",
    "    if nn_model == NNNetEnum.le_net:\n",
    "        model_class =  LeNet\n",
    "\n",
    "    if model_class is None:\n",
    "        raise Exception(f'The passed architecture {nn_model} was not found. Check enum conditions.')\n",
    "    \n",
    "    return model_class().to(DEVICE)"
   ]
  },
  {
   "cell_type": "markdown",
   "id": "7fa3651a-6147-43e3-af9c-e24c78a6b10a",
   "metadata": {
    "tags": []
   },
   "source": [
    "## Тесты архитектур"
   ]
  },
  {
   "cell_type": "code",
   "execution_count": 16,
   "id": "faf77646-9942-4650-8151-c87183f8cc14",
   "metadata": {},
   "outputs": [],
   "source": [
    "simple_cnn = get_nn_model(NNNetEnum.le_net)"
   ]
  },
  {
   "cell_type": "code",
   "execution_count": 17,
   "id": "a75f4889-d99e-480c-bcd5-3ef0991de5c0",
   "metadata": {},
   "outputs": [],
   "source": [
    "epoch = 1\n",
    "batch_size = 64\n",
    "num_samples = 5000"
   ]
  },
  {
   "cell_type": "code",
   "execution_count": 18,
   "id": "cf6be65a-810b-4c91-a82f-262c7762cbc4",
   "metadata": {},
   "outputs": [
    {
     "name": "stderr",
     "output_type": "stream",
     "text": [
      "epoch:   0%|                                                                                     | 0/1 [00:00<?, ?it/s]"
     ]
    },
    {
     "name": "stdout",
     "output_type": "stream",
     "text": [
      "loss 1.5128696024417878\n"
     ]
    },
    {
     "name": "stderr",
     "output_type": "stream",
     "text": [
      "epoch: 100%|█████████████████████████████████████████████████████████████████████████████| 1/1 [00:39<00:00, 39.31s/it]"
     ]
    },
    {
     "name": "stdout",
     "output_type": "stream",
     "text": [
      "\n",
      "Epoch 001 train_loss: 1.5129     val_loss 0.9036 train_acc 0.4962 val_acc 0.6763\n"
     ]
    },
    {
     "name": "stderr",
     "output_type": "stream",
     "text": [
      "\n"
     ]
    }
   ],
   "source": [
    "with Timer() as train_timer:\n",
    "    history = train(train_dataset, val_dataset, model=simple_cnn, epochs=epoch, batch_size=batch_size, num_samples=num_samples)"
   ]
  },
  {
   "cell_type": "code",
   "execution_count": 19,
   "id": "e44329f3-b455-4ad0-9dc9-74eaecf19006",
   "metadata": {},
   "outputs": [
    {
     "data": {
      "image/png": "[encoded data removed]",
      "text/plain": [
       "<Figure size 1500x900 with 1 Axes>"
      ]
     },
     "metadata": {},
     "output_type": "display_data"
    }
   ],
   "source": [
    "train_loss, train_acc, val_loss, val_acc = zip(*history)\n",
    "\n",
    "plt.figure(figsize=(15, 9))\n",
    "plt.plot(train_loss, label=\"train_loss\")\n",
    "plt.plot(val_loss, label=\"val_loss\")\n",
    "plt.xlabel(\"epochs\")\n",
    "plt.ylabel(\"loss\")\n",
    "plt.show()"
   ]
  },
  {
   "cell_type": "code",
   "execution_count": 21,
   "id": "5ef5fa31-ed9c-4a06-8d33-27bbbea59887",
   "metadata": {},
   "outputs": [],
   "source": [
    "test_img = [test_dataset[i][0].unsqueeze(0) for i in range(len(test_dataset))]\n",
    "\n",
    "with Timer() as test_timer:\n",
    "    test_pred = predict(simple_cnn, test_img)\n",
    "    y_pred = np.argmax(test_pred,-1)\n"
   ]
  },
  {
   "cell_type": "markdown",
   "id": "f5256aac-ef21-441c-a616-66ef1e642840",
   "metadata": {},
   "source": [
    "#### Accuracy по классам"
   ]
  },
  {
   "cell_type": "code",
   "execution_count": 22,
   "id": "3548ac11-3791-48dd-bb67-e0df8e6ecd10",
   "metadata": {},
   "outputs": [
    {
     "name": "stdout",
     "output_type": "stream",
     "text": [
      "ACCURACY [0.9979591836734694, 0.9832599118942731, 0.8304263565891473, 0.7514851485148515, 0.9307535641547862, 0.8217488789237668, 0.7578288100208769, 0.9134241245136187, 0.7741273100616016, 0.6005946481665014]\n"
     ]
    }
   ],
   "source": [
    "proba_ = predict(simple_cnn, DataLoader(test_dataset, batch_size=1, shuffle=False))\n",
    "predict_ = np.argmax(proba_, -1)\n",
    "actual_labels = [el[1] for el in test_dataset]\n",
    "\n",
    "matrix = confusion_matrix(actual_labels, predict_)\n",
    "ac_class = matrix.diagonal() / matrix.sum(axis=1)\n",
    "print('ACCURACY', list(ac_class))"
   ]
  },
  {
   "cell_type": "markdown",
   "id": "95019db1-6833-45ce-9f1a-60dbe12e9d07",
   "metadata": {},
   "source": [
    "#### Общий accuracy"
   ]
  },
  {
   "cell_type": "code",
   "execution_count": 128,
   "id": "48c66854-4529-4b40-99cf-1a6a60bf32b6",
   "metadata": {},
   "outputs": [
    {
     "name": "stdout",
     "output_type": "stream",
     "text": [
      "ACCURACY general: 0.9824 ACCURACY by classes: 0.98239584441748\n"
     ]
    }
   ],
   "source": [
    "actual_labels =[test_dataset[i][1] for i in range(len(test_dataset))]\n",
    "\n",
    "ac = accuracy_score(actual_labels, y_pred)\n",
    "\n",
    "print(\"ACCURACY general:\", ac, 'ACCURACY by classes:', sum(ac_class) / 10)"
   ]
  },
  {
   "cell_type": "code",
   "execution_count": 129,
   "id": "e2678450-2c30-4b1d-bcc6-cdd8cc0c65b4",
   "metadata": {},
   "outputs": [
    {
     "data": {
      "text/plain": [
       "'LeNet'"
      ]
     },
     "execution_count": 129,
     "metadata": {},
     "output_type": "execute_result"
    }
   ],
   "source": [
    "simple_cnn.__class__.__name__"
   ]
  },
  {
   "cell_type": "code",
   "execution_count": 130,
   "id": "613db09b-fa57-4a63-a2ba-eac4c4cd3cb7",
   "metadata": {},
   "outputs": [
    {
     "name": "stdout",
     "output_type": "stream",
     "text": [
      "degrees=[-30.0, 30.0], interpolation=nearest, expand=False, fill=0\n",
      "p=0.9, distortion_scale=0.3\n",
      "{'epoch': 35, 'batch_size': 64, 'RandomRotation': 'degrees=[-30.0, 30.0], interpolation=nearest, expand=False, fill=0', 'RandomPerspective': 'p=0.9, distortion_scale=0.3'}\n"
     ]
    }
   ],
   "source": [
    "params = {\"epoch\": epoch, \"batch_size\": batch_size}\n",
    "\n",
    "for transform_el in get_transform().transforms:\n",
    "    val = re.sub(r'\\w+\\(', '', str(transform_el))[:-1]\n",
    "    \n",
    "    if not val:\n",
    "        continue\n",
    "    \n",
    "    if transform_el.__class__.__name__=='RandomPerspective':\n",
    "        val=f'{val}, distortion_scale={distortion_scale}'\n",
    "    print(val)\n",
    "    params[transform_el.__class__.__name__] = val\n",
    "\n",
    "print(params)"
   ]
  },
  {
   "cell_type": "markdown",
   "id": "b3d2081e-a3dd-4731-8f07-6afb7d6bf74f",
   "metadata": {},
   "source": [
    "## Логирование в MLFlow"
   ]
  },
  {
   "cell_type": "code",
   "execution_count": 131,
   "id": "472e4bb1-2147-4894-ae80-6eea5a653c6e",
   "metadata": {},
   "outputs": [
    {
     "name": "stdout",
     "output_type": "stream",
     "text": [
      "degrees=[-30.0, 30.0], interpolation=nearest, expand=False, fill=0\n",
      "degrees=[-30.0, 30.0], interpolation=nearest, expand=False, fill=0\n",
      "p=0.9, distortion_scale=0.3\n",
      "p=0.9, distortion_scale=0.3\n"
     ]
    },
    {
     "name": "stderr",
     "output_type": "stream",
     "text": [
      "Registered model 'LeNet' already exists. Creating a new version of this model...\n",
      "Created version '91' of model 'LeNet'.\n"
     ]
    }
   ],
   "source": [
    "model_name = simple_cnn.__class__.__name__\n",
    "\n",
    "params = {\"epoch\": epoch, \"batch_size\": batch_size, \"num_samples\": num_samples}\n",
    "\n",
    "for transform_el in get_transform().transforms:\n",
    "    val = re.sub(r'\\w+\\(', '', str(transform_el))[:-1]\n",
    "    \n",
    "    if not val:\n",
    "        continue\n",
    "\n",
    "    if transform_el.__class__.__name__=='RandomPerspective':\n",
    "        val=f'{val}, distortion_scale={distortion_scale}'\n",
    "    print(val)\n",
    "    \n",
    "    print(val)\n",
    "    params[transform_el.__class__.__name__] = val\n",
    "\n",
    "\n",
    "mlflow.set_tracking_uri(uri=\"sqlite:///mlruns.db\")\n",
    "mlflow.set_experiment(model_name)\n",
    "\n",
    "\n",
    "with mlflow.start_run(run_name=model_name):\n",
    "    # Log the hyperparameters\n",
    "    mlflow.log_params(params)\n",
    "\n",
    "    # Log the metric\n",
    "    mlflow.log_metric(\"accuracy\", ac)\n",
    "    mlflow.log_metric(\"train_time_seconds\", train_timer.float_round())\n",
    "    mlflow.log_metric(\"pred_time_seconds\", test_timer.float_round())\n",
    "\n",
    "    for i in range(10):\n",
    "         mlflow.log_metric(f\"accuracy_{i}\", round(ac_class[i], 5))\n",
    "\n",
    "    # Log the model\n",
    "    model_info = mlflow.pytorch.log_model(\n",
    "        pytorch_model=simple_cnn,\n",
    "        artifact_path=model_name,\n",
    "        #signature = infer_signature(train_set_array, train_pred),\n",
    "        #input_example=train_set_array,\n",
    "        registered_model_name=model_name,\n",
    "    )"
   ]
  },
  {
   "cell_type": "code",
   "execution_count": null,
   "id": "b47a1f8d-840c-413f-97f2-b3c6d3f52563",
   "metadata": {},
   "outputs": [],
   "source": []
  }
 ],
 "metadata": {
  "kernelspec": {
   "display_name": "Python 3 (ipykernel)",
   "language": "python",
   "name": "python3"
  },
  "language_info": {
   "codemirror_mode": {
    "name": "ipython",
    "version": 3
   },
   "file_extension": ".py",
   "mimetype": "text/x-python",
   "name": "python",
   "nbconvert_exporter": "python",
   "pygments_lexer": "ipython3",
   "version": "3.10.0"
  }
 },
 "nbformat": 4,
 "nbformat_minor": 5
}
